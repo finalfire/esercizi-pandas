{
 "cells": [
  {
   "cell_type": "markdown",
   "metadata": {},
   "source": [
    "# Esercizi Pandas"
   ]
  },
  {
   "cell_type": "markdown",
   "metadata": {},
   "source": [
    "---"
   ]
  },
  {
   "cell_type": "markdown",
   "metadata": {},
   "source": [
    "# Filtering & Sorting"
   ]
  },
  {
   "cell_type": "markdown",
   "metadata": {},
   "source": [
    "## Importare le librerie necessarie"
   ]
  },
  {
   "cell_type": "code",
   "execution_count": 1,
   "metadata": {},
   "outputs": [],
   "source": [
    "import pandas as pd"
   ]
  },
  {
   "cell_type": "markdown",
   "metadata": {},
   "source": [
    "## Importare il dataset Chipotle da questo [indirizzo](https://raw.githubusercontent.com/justmarkham/DAT8/master/data/chipotle.tsv) ed assegnarlo ad una variabile chiamata `chiplo`"
   ]
  },
  {
   "cell_type": "code",
   "execution_count": 7,
   "metadata": {},
   "outputs": [],
   "source": [
    "# (1 opzione) leggere da file sulla propria macchina il dataset \\t\n",
    "path_dataset_chiplo = 'dataset/chipotle.tsv'\n",
    "# (2 opzione) leggere un file da un URL\n",
    "url_dataset_chiplo = 'https://raw.githubusercontent.com/justmarkham/DAT8/master/data/chipotle.tsv'\n",
    "\n",
    "chiplo = pd.read_csv(url_dataset_chiplo, sep='\\t')"
   ]
  },
  {
   "cell_type": "markdown",
   "metadata": {},
   "source": [
    "## Cose da fare:\n",
    "\n",
    "* Quanti prodotti costano più di $ 10.00?\n",
    "* Qual è il prezzo di ogni oggetto? (creare un dataframe con solo due colonne `item_name` ed `item_price`)\n",
    "* Ordinare i valori rispetto il nome dell'oggetto\n",
    "* Qual è la quantità dell'oggetto ordinato più costoso?\n",
    "* Quante volte è stata ordinata la Veggie Salad Bowl?\n",
    "* Quante volte vi è stato qualcuno che ha ordinato più di una Canned Soda?"
   ]
  },
  {
   "cell_type": "code",
   "execution_count": 22,
   "metadata": {},
   "outputs": [],
   "source": [
    "# passaggio 1: convertire la colonna item_price da object a float (float -> numeri decimali)\n",
    "def converti(s):\n",
    "    senza_dollaro = s.replace('$', '') # replace rimpiazza le occorrenze di $ con il carattere vuoto (le cancella)\n",
    "    valore = float(senza_dollaro)\n",
    "    return valore\n",
    "\n",
    "chiplo['item_price'] = chiplo.item_price.apply(converti)"
   ]
  },
  {
   "cell_type": "code",
   "execution_count": 37,
   "metadata": {},
   "outputs": [
    {
     "name": "stdout",
     "output_type": "stream",
     "text": [
      "Abbiamo 31 prodotti unici che costano più di $ 10\n",
      "Questi prodotti sono: ['Chicken Bowl' 'Steak Burrito' 'Chicken Burrito' 'Barbacoa Bowl'\n",
      " 'Veggie Burrito' 'Veggie Bowl' 'Chicken Soft Tacos' 'Steak Bowl'\n",
      " 'Carnitas Burrito' 'Carnitas Bowl' 'Barbacoa Burrito'\n",
      " 'Chicken Salad Bowl' 'Barbacoa Crispy Tacos' 'Veggie Salad Bowl'\n",
      " 'Chicken Crispy Tacos' 'Chicken Salad' 'Steak Salad Bowl' 'Bowl'\n",
      " 'Veggie Soft Tacos' 'Barbacoa Soft Tacos' 'Carnitas Crispy Tacos'\n",
      " 'Carnitas Salad Bowl' 'Barbacoa Salad Bowl'\n",
      " 'Chips and Fresh Tomato Salsa' 'Steak Soft Tacos' 'Carnitas Soft Tacos'\n",
      " 'Steak Crispy Tacos' 'Chips and Guacamole' '6 Pack Soft Drink'\n",
      " 'Bottled Water' 'Side of Chips']\n"
     ]
    }
   ],
   "source": [
    "# Quanti prodotti costano più di $ 10.00?\n",
    "numero_prodotti_unici = chiplo[chiplo.item_price > 10.00].item_name.nunique()\n",
    "prodotti_unici = chiplo[chiplo.item_price > 10.00].item_name.unique()\n",
    "\n",
    "print('Abbiamo', numero_prodotti_unici, 'prodotti unici che costano più di $ 10')\n",
    "print('Questi prodotti sono:', prodotti_unici)"
   ]
  },
  {
   "cell_type": "code",
   "execution_count": 45,
   "metadata": {},
   "outputs": [
    {
     "data": {
      "text/html": [
       "<div>\n",
       "<style scoped>\n",
       "    .dataframe tbody tr th:only-of-type {\n",
       "        vertical-align: middle;\n",
       "    }\n",
       "\n",
       "    .dataframe tbody tr th {\n",
       "        vertical-align: top;\n",
       "    }\n",
       "\n",
       "    .dataframe thead th {\n",
       "        text-align: right;\n",
       "    }\n",
       "</style>\n",
       "<table border=\"1\" class=\"dataframe\">\n",
       "  <thead>\n",
       "    <tr style=\"text-align: right;\">\n",
       "      <th></th>\n",
       "      <th>item_name</th>\n",
       "      <th>item_price</th>\n",
       "    </tr>\n",
       "  </thead>\n",
       "  <tbody>\n",
       "    <tr>\n",
       "      <th>0</th>\n",
       "      <td>Chips and Fresh Tomato Salsa</td>\n",
       "      <td>2.39</td>\n",
       "    </tr>\n",
       "    <tr>\n",
       "      <th>1</th>\n",
       "      <td>Izze</td>\n",
       "      <td>3.39</td>\n",
       "    </tr>\n",
       "    <tr>\n",
       "      <th>2</th>\n",
       "      <td>Nantucket Nectar</td>\n",
       "      <td>3.39</td>\n",
       "    </tr>\n",
       "    <tr>\n",
       "      <th>3</th>\n",
       "      <td>Chips and Tomatillo-Green Chili Salsa</td>\n",
       "      <td>2.39</td>\n",
       "    </tr>\n",
       "    <tr>\n",
       "      <th>4</th>\n",
       "      <td>Chicken Bowl</td>\n",
       "      <td>16.98</td>\n",
       "    </tr>\n",
       "  </tbody>\n",
       "</table>\n",
       "</div>"
      ],
      "text/plain": [
       "                               item_name  item_price\n",
       "0           Chips and Fresh Tomato Salsa        2.39\n",
       "1                                   Izze        3.39\n",
       "2                       Nantucket Nectar        3.39\n",
       "3  Chips and Tomatillo-Green Chili Salsa        2.39\n",
       "4                           Chicken Bowl       16.98"
      ]
     },
     "execution_count": 45,
     "metadata": {},
     "output_type": "execute_result"
    }
   ],
   "source": [
    "# Qual è il prezzo di ogni oggetto? (creare un dataframe con solo due colonne item_name ed item_price)\n",
    "chiplo_2column = chiplo[['item_name', 'item_price']].drop_duplicates()\n",
    "chiplo_2column.head()"
   ]
  },
  {
   "cell_type": "code",
   "execution_count": 47,
   "metadata": {},
   "outputs": [
    {
     "data": {
      "text/html": [
       "<div>\n",
       "<style scoped>\n",
       "    .dataframe tbody tr th:only-of-type {\n",
       "        vertical-align: middle;\n",
       "    }\n",
       "\n",
       "    .dataframe tbody tr th {\n",
       "        vertical-align: top;\n",
       "    }\n",
       "\n",
       "    .dataframe thead th {\n",
       "        text-align: right;\n",
       "    }\n",
       "</style>\n",
       "<table border=\"1\" class=\"dataframe\">\n",
       "  <thead>\n",
       "    <tr style=\"text-align: right;\">\n",
       "      <th></th>\n",
       "      <th>item_name</th>\n",
       "      <th>item_price</th>\n",
       "    </tr>\n",
       "  </thead>\n",
       "  <tbody>\n",
       "    <tr>\n",
       "      <th>3598</th>\n",
       "      <td>Chips and Fresh Tomato Salsa</td>\n",
       "      <td>44.25</td>\n",
       "    </tr>\n",
       "    <tr>\n",
       "      <th>3480</th>\n",
       "      <td>Carnitas Bowl</td>\n",
       "      <td>35.25</td>\n",
       "    </tr>\n",
       "    <tr>\n",
       "      <th>1254</th>\n",
       "      <td>Chicken Burrito</td>\n",
       "      <td>35.00</td>\n",
       "    </tr>\n",
       "    <tr>\n",
       "      <th>3601</th>\n",
       "      <td>Veggie Burrito</td>\n",
       "      <td>33.75</td>\n",
       "    </tr>\n",
       "    <tr>\n",
       "      <th>409</th>\n",
       "      <td>Chicken Bowl</td>\n",
       "      <td>32.94</td>\n",
       "    </tr>\n",
       "    <tr>\n",
       "      <th>...</th>\n",
       "      <td>...</td>\n",
       "      <td>...</td>\n",
       "    </tr>\n",
       "    <tr>\n",
       "      <th>6</th>\n",
       "      <td>Side of Chips</td>\n",
       "      <td>1.69</td>\n",
       "    </tr>\n",
       "    <tr>\n",
       "      <th>329</th>\n",
       "      <td>Bottled Water</td>\n",
       "      <td>1.50</td>\n",
       "    </tr>\n",
       "    <tr>\n",
       "      <th>263</th>\n",
       "      <td>Canned Soft Drink</td>\n",
       "      <td>1.25</td>\n",
       "    </tr>\n",
       "    <tr>\n",
       "      <th>28</th>\n",
       "      <td>Canned Soda</td>\n",
       "      <td>1.09</td>\n",
       "    </tr>\n",
       "    <tr>\n",
       "      <th>34</th>\n",
       "      <td>Bottled Water</td>\n",
       "      <td>1.09</td>\n",
       "    </tr>\n",
       "  </tbody>\n",
       "</table>\n",
       "<p>209 rows × 2 columns</p>\n",
       "</div>"
      ],
      "text/plain": [
       "                         item_name  item_price\n",
       "3598  Chips and Fresh Tomato Salsa       44.25\n",
       "3480                 Carnitas Bowl       35.25\n",
       "1254               Chicken Burrito       35.00\n",
       "3601                Veggie Burrito       33.75\n",
       "409                   Chicken Bowl       32.94\n",
       "...                            ...         ...\n",
       "6                    Side of Chips        1.69\n",
       "329                  Bottled Water        1.50\n",
       "263              Canned Soft Drink        1.25\n",
       "28                     Canned Soda        1.09\n",
       "34                   Bottled Water        1.09\n",
       "\n",
       "[209 rows x 2 columns]"
      ]
     },
     "execution_count": 47,
     "metadata": {},
     "output_type": "execute_result"
    }
   ],
   "source": [
    "# Ordinare i valori rispetto il nome dell'oggetto\n",
    "chiplo_2column.sort_values(by='item_price', ascending=False) #ascending=True -> ordina in modo crescente"
   ]
  },
  {
   "cell_type": "code",
   "execution_count": 52,
   "metadata": {},
   "outputs": [
    {
     "data": {
      "text/html": [
       "<div>\n",
       "<style scoped>\n",
       "    .dataframe tbody tr th:only-of-type {\n",
       "        vertical-align: middle;\n",
       "    }\n",
       "\n",
       "    .dataframe tbody tr th {\n",
       "        vertical-align: top;\n",
       "    }\n",
       "\n",
       "    .dataframe thead th {\n",
       "        text-align: right;\n",
       "    }\n",
       "</style>\n",
       "<table border=\"1\" class=\"dataframe\">\n",
       "  <thead>\n",
       "    <tr style=\"text-align: right;\">\n",
       "      <th></th>\n",
       "      <th>quantity</th>\n",
       "      <th>item_name</th>\n",
       "      <th>item_price</th>\n",
       "    </tr>\n",
       "  </thead>\n",
       "  <tbody>\n",
       "    <tr>\n",
       "      <th>3598</th>\n",
       "      <td>15</td>\n",
       "      <td>Chips and Fresh Tomato Salsa</td>\n",
       "      <td>44.25</td>\n",
       "    </tr>\n",
       "  </tbody>\n",
       "</table>\n",
       "</div>"
      ],
      "text/plain": [
       "      quantity                     item_name  item_price\n",
       "3598        15  Chips and Fresh Tomato Salsa       44.25"
      ]
     },
     "execution_count": 52,
     "metadata": {},
     "output_type": "execute_result"
    }
   ],
   "source": [
    "# Qual è la quantità dell'oggetto ordinato più costoso?\n",
    "chiplo_3column = chiplo[['quantity', 'item_name', 'item_price']].drop_duplicates()\n",
    "chiplo_3column.sort_values(by='item_price', ascending=False).head(1)"
   ]
  },
  {
   "cell_type": "code",
   "execution_count": 58,
   "metadata": {},
   "outputs": [
    {
     "data": {
      "text/plain": [
       "18"
      ]
     },
     "execution_count": 58,
     "metadata": {},
     "output_type": "execute_result"
    }
   ],
   "source": [
    "# Quante volte è stata ordinata la Veggie Salad Bowl?\n",
    "solo_vsb = chiplo[chiplo.item_name == 'Veggie Salad Bowl']\n",
    "len(solo_vsb)"
   ]
  },
  {
   "cell_type": "code",
   "execution_count": 68,
   "metadata": {},
   "outputs": [
    {
     "data": {
      "text/plain": [
       "20"
      ]
     },
     "execution_count": 68,
     "metadata": {},
     "output_type": "execute_result"
    }
   ],
   "source": [
    "# Quante volte vi è stato qualcuno che ha ordinato più di una Canned Soda?\n",
    "# & = and, | = or\n",
    "len(chiplo[(chiplo.item_name == 'Canned Soda') & (chiplo.quantity > 1)])"
   ]
  },
  {
   "cell_type": "markdown",
   "metadata": {},
   "source": [
    "## Importare il dataset Euro12 da questo [indirizzo](https://raw.githubusercontent.com/guipsamora/pandas_exercises/master/02_Filtering_%26_Sorting/Euro12/Euro_2012_stats_TEAM.csv) ed assegnarlo ad una variabile chiamata `euro12`"
   ]
  },
  {
   "cell_type": "code",
   "execution_count": 69,
   "metadata": {},
   "outputs": [],
   "source": [
    "path_file_euro12 = 'dataset/Euro_2012_stats_TEAM.csv'\n",
    "euro12 = pd.read_csv(path_file_euro12)"
   ]
  },
  {
   "cell_type": "code",
   "execution_count": 72,
   "metadata": {},
   "outputs": [
    {
     "data": {
      "text/html": [
       "<div>\n",
       "<style scoped>\n",
       "    .dataframe tbody tr th:only-of-type {\n",
       "        vertical-align: middle;\n",
       "    }\n",
       "\n",
       "    .dataframe tbody tr th {\n",
       "        vertical-align: top;\n",
       "    }\n",
       "\n",
       "    .dataframe thead th {\n",
       "        text-align: right;\n",
       "    }\n",
       "</style>\n",
       "<table border=\"1\" class=\"dataframe\">\n",
       "  <thead>\n",
       "    <tr style=\"text-align: right;\">\n",
       "      <th></th>\n",
       "      <th>Team</th>\n",
       "      <th>Goals</th>\n",
       "      <th>Shots on target</th>\n",
       "      <th>Shots off target</th>\n",
       "      <th>Shooting Accuracy</th>\n",
       "      <th>% Goals-to-shots</th>\n",
       "      <th>Total shots (inc. Blocked)</th>\n",
       "      <th>Hit Woodwork</th>\n",
       "      <th>Penalty goals</th>\n",
       "      <th>Penalties not scored</th>\n",
       "      <th>...</th>\n",
       "      <th>Saves made</th>\n",
       "      <th>Saves-to-shots ratio</th>\n",
       "      <th>Fouls Won</th>\n",
       "      <th>Fouls Conceded</th>\n",
       "      <th>Offsides</th>\n",
       "      <th>Yellow Cards</th>\n",
       "      <th>Red Cards</th>\n",
       "      <th>Subs on</th>\n",
       "      <th>Subs off</th>\n",
       "      <th>Players Used</th>\n",
       "    </tr>\n",
       "  </thead>\n",
       "  <tbody>\n",
       "    <tr>\n",
       "      <th>0</th>\n",
       "      <td>Croatia</td>\n",
       "      <td>4</td>\n",
       "      <td>13</td>\n",
       "      <td>12</td>\n",
       "      <td>51.9%</td>\n",
       "      <td>16.0%</td>\n",
       "      <td>32</td>\n",
       "      <td>0</td>\n",
       "      <td>0</td>\n",
       "      <td>0</td>\n",
       "      <td>...</td>\n",
       "      <td>13</td>\n",
       "      <td>81.3%</td>\n",
       "      <td>41</td>\n",
       "      <td>62</td>\n",
       "      <td>2</td>\n",
       "      <td>9</td>\n",
       "      <td>0</td>\n",
       "      <td>9</td>\n",
       "      <td>9</td>\n",
       "      <td>16</td>\n",
       "    </tr>\n",
       "    <tr>\n",
       "      <th>1</th>\n",
       "      <td>Czech Republic</td>\n",
       "      <td>4</td>\n",
       "      <td>13</td>\n",
       "      <td>18</td>\n",
       "      <td>41.9%</td>\n",
       "      <td>12.9%</td>\n",
       "      <td>39</td>\n",
       "      <td>0</td>\n",
       "      <td>0</td>\n",
       "      <td>0</td>\n",
       "      <td>...</td>\n",
       "      <td>9</td>\n",
       "      <td>60.1%</td>\n",
       "      <td>53</td>\n",
       "      <td>73</td>\n",
       "      <td>8</td>\n",
       "      <td>7</td>\n",
       "      <td>0</td>\n",
       "      <td>11</td>\n",
       "      <td>11</td>\n",
       "      <td>19</td>\n",
       "    </tr>\n",
       "  </tbody>\n",
       "</table>\n",
       "<p>2 rows × 35 columns</p>\n",
       "</div>"
      ],
      "text/plain": [
       "             Team  Goals  Shots on target  Shots off target Shooting Accuracy  \\\n",
       "0         Croatia      4               13                12             51.9%   \n",
       "1  Czech Republic      4               13                18             41.9%   \n",
       "\n",
       "  % Goals-to-shots  Total shots (inc. Blocked)  Hit Woodwork  Penalty goals  \\\n",
       "0            16.0%                          32             0              0   \n",
       "1            12.9%                          39             0              0   \n",
       "\n",
       "   Penalties not scored  ...  Saves made  Saves-to-shots ratio  Fouls Won  \\\n",
       "0                     0  ...          13                 81.3%         41   \n",
       "1                     0  ...           9                 60.1%         53   \n",
       "\n",
       "  Fouls Conceded  Offsides  Yellow Cards  Red Cards  Subs on  Subs off  \\\n",
       "0             62         2             9          0        9         9   \n",
       "1             73         8             7          0       11        11   \n",
       "\n",
       "   Players Used  \n",
       "0            16  \n",
       "1            19  \n",
       "\n",
       "[2 rows x 35 columns]"
      ]
     },
     "execution_count": 72,
     "metadata": {},
     "output_type": "execute_result"
    }
   ],
   "source": [
    "euro12.head(2)"
   ]
  },
  {
   "cell_type": "code",
   "execution_count": 74,
   "metadata": {},
   "outputs": [],
   "source": [
    "def convert_percentuale(s):\n",
    "    senza_percent = s.replace('%', '')\n",
    "    return float(senza_percent) / 100.0\n",
    "\n",
    "euro12['Shooting Accuracy'] = euro12['Shooting Accuracy'].apply(convert_percentuale)"
   ]
  },
  {
   "cell_type": "markdown",
   "metadata": {},
   "source": [
    "## Cose da fare:\n",
    "\n",
    "* Selezionare solo la colonna Goal\n",
    "* Quante squadre hanno partecipato alla competizione?\n",
    "* Qual è il numero di colonne del dataframe?\n",
    "* Selezionare solo le colonne Team, Yellow Cards e Red Cards ed assegnarle ad un dataframe la cui variabile assegnata è `discipline`\n",
    "* Ordinare le squadre prima per Red Cards, poi per Yellow Cards\n",
    "* Calcolare la media dei Yellow Cards per squadra\n",
    "* Selezionare i team che hanno fatto più di 6 goal\n",
    "* Selezionare i team che iniziano con la lettera G\n",
    "* Selezionare le prime 7 colonne\n",
    "* Selezionare tutte le colonne eccetto le ultime 3\n",
    "* Visualizzare solo la Shooting Accuracy di England, Italy e Russia"
   ]
  },
  {
   "cell_type": "markdown",
   "metadata": {},
   "source": [
    "---"
   ]
  },
  {
   "cell_type": "markdown",
   "metadata": {},
   "source": [
    "# Raggruppamenti per proprietà"
   ]
  },
  {
   "cell_type": "markdown",
   "metadata": {},
   "source": [
    "## Importare il dataset Alcohol Consumption da questo [indirizzo](https://raw.githubusercontent.com/justmarkham/DAT8/master/data/drinks.csv) ed assegnarlo ad una variabile chiamata `drinks`"
   ]
  },
  {
   "cell_type": "code",
   "execution_count": null,
   "metadata": {},
   "outputs": [],
   "source": []
  },
  {
   "cell_type": "markdown",
   "metadata": {},
   "source": [
    "## Cose da fare:\n",
    "* Quale continente beve mediamente più birra?\n",
    "* Per ogni continente, visualizzare le statisiche per il consumo di vino\n",
    "* Visualizzare il consumo di alcol (media) per continente per ogni colonna\n",
    "* Visualizzare il consumo di alcol (mediana) per continente per ogni colonna\n",
    "* Visualizzare media, min e max per continente per il consumo di spirito"
   ]
  },
  {
   "cell_type": "markdown",
   "metadata": {},
   "source": [
    "---"
   ]
  },
  {
   "cell_type": "markdown",
   "metadata": {},
   "source": [
    "# Modificare un dataframe"
   ]
  },
  {
   "cell_type": "markdown",
   "metadata": {},
   "source": [
    "## Importare il dataset Student Alcohol Consumption da questo [indirizzo](https://raw.githubusercontent.com/guipsamora/pandas_exercises/master/04_Apply/Students_Alcohol_Consumption/student-mat.csv) ed assegnarlo ad una variabile chiamata `student_drinks`"
   ]
  },
  {
   "cell_type": "code",
   "execution_count": null,
   "metadata": {},
   "outputs": [],
   "source": []
  },
  {
   "cell_type": "markdown",
   "metadata": {},
   "source": [
    "## Cose da fare:\n",
    "\n",
    "* Modificare il dataframe in modo da selezionare solo le colonne da `school` a `guardian`\n",
    "* Modificare i valori testuali nelle colonne `Mjob` e `Fjob` in modo da avere la lettera iniziale maiuscola\n",
    "* Creare una nuova colonna `legal_drinker` che contenga il valore `True` se il record corrente riguarda uno studente che può bere legalmente (ovvero la sua età è > 17 anni)"
   ]
  },
  {
   "cell_type": "markdown",
   "metadata": {},
   "source": [
    "---"
   ]
  },
  {
   "cell_type": "markdown",
   "metadata": {},
   "source": [
    "# Visualizzazione"
   ]
  },
  {
   "cell_type": "markdown",
   "metadata": {},
   "source": [
    "## Importazione delle librerie necessarie"
   ]
  },
  {
   "cell_type": "code",
   "execution_count": null,
   "metadata": {},
   "outputs": [],
   "source": [
    "# questo lo usiamo per mostrare i grafici direttamente nel notebook\n",
    "%matplotlib inline"
   ]
  },
  {
   "cell_type": "markdown",
   "metadata": {},
   "source": [
    "## Cose da fare con il dataframe `chipo`:\n",
    "\n",
    "* Visualizzazione dei primi 10 record\n",
    "* Istogramma dei top 5 oggetti acquistati\n",
    "* Scatterplot del numero di oggetti ordinati per prezzo dell'ordine (l'intervallo del prezzo dell'ordine dovrebbe stare sull'ascissa, mentre l'ordinata dovrebbe indicare il numero di oggetti ordinati con quel prezzo)\n"
   ]
  },
  {
   "cell_type": "markdown",
   "metadata": {},
   "source": [
    "## Importare il dataset Online Retail da questo [indirizzo](https://raw.githubusercontent.com/guipsamora/pandas_exercises/master/07_Visualization/Online_Retail/Online_Retail.csv) ed assegnarlo ad una variabile chiamata `online_rt`"
   ]
  },
  {
   "cell_type": "code",
   "execution_count": null,
   "metadata": {},
   "outputs": [],
   "source": []
  },
  {
   "cell_type": "markdown",
   "metadata": {},
   "source": [
    "## Cose da fare con il dataframe `online_rt`:\n",
    "\n",
    "* Istogramma delle prime 10 country con il maggior valore di Quantity\n",
    "* Istogramma dei primi 10 oggetti con il maggior valore di UnitPrice"
   ]
  },
  {
   "cell_type": "code",
   "execution_count": null,
   "metadata": {},
   "outputs": [],
   "source": []
  }
 ],
 "metadata": {
  "kernelspec": {
   "display_name": "Python 3",
   "language": "python",
   "name": "python3"
  },
  "language_info": {
   "codemirror_mode": {
    "name": "ipython",
    "version": 3
   },
   "file_extension": ".py",
   "mimetype": "text/x-python",
   "name": "python",
   "nbconvert_exporter": "python",
   "pygments_lexer": "ipython3",
   "version": "3.7.6"
  }
 },
 "nbformat": 4,
 "nbformat_minor": 4
}
