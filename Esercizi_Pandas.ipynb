{
 "cells": [
  {
   "cell_type": "markdown",
   "metadata": {},
   "source": [
    "# Esercizi Pandas"
   ]
  },
  {
   "cell_type": "markdown",
   "metadata": {},
   "source": [
    "---"
   ]
  },
  {
   "cell_type": "markdown",
   "metadata": {},
   "source": [
    "# Filtering & Sorting"
   ]
  },
  {
   "cell_type": "markdown",
   "metadata": {},
   "source": [
    "## Importare le librerie necessarie"
   ]
  },
  {
   "cell_type": "code",
   "execution_count": null,
   "metadata": {},
   "outputs": [],
   "source": []
  },
  {
   "cell_type": "markdown",
   "metadata": {},
   "source": [
    "## Importare il dataset Chipotle da questo [indirizzo](https://raw.githubusercontent.com/justmarkham/DAT8/master/data/chipotle.tsv) ed assegnarlo ad una variabile chiamata `chiplo`"
   ]
  },
  {
   "cell_type": "code",
   "execution_count": 7,
   "metadata": {},
   "outputs": [],
   "source": []
  },
  {
   "cell_type": "markdown",
   "metadata": {},
   "source": [
    "## Cose da fare:\n",
    "\n",
    "* Quanti prodotti costano più di $ 10.00?\n",
    "* Qual è il prezzo di ogni oggetto? (creare un dataframe con solo due colonne `item_name` ed `item_price`)\n",
    "* Ordinare i valori rispetto il nome dell'oggetto\n",
    "* Qual è la quantità dell'oggetto ordinato più costoso?\n",
    "* Quante volte è stata ordinata la Veggie Salad Bowl?\n",
    "* Quante volte vi è stato qualcuno che ha ordinato più di una Canned Soda?"
   ]
  },
  {
   "cell_type": "code",
   "execution_count": null,
   "metadata": {},
   "outputs": [],
   "source": []
  },
  {
   "cell_type": "markdown",
   "metadata": {},
   "source": [
    "## Importare il dataset Euro12 da questo [indirizzo](https://raw.githubusercontent.com/guipsamora/pandas_exercises/master/02_Filtering_%26_Sorting/Euro12/Euro_2012_stats_TEAM.csv) ed assegnarlo ad una variabile chiamata `euro12`"
   ]
  },
  {
   "cell_type": "code",
   "execution_count": null,
   "metadata": {},
   "outputs": [],
   "source": []
  },
  {
   "cell_type": "markdown",
   "metadata": {},
   "source": [
    "## Cose da fare:\n",
    "\n",
    "* Selezionare solo la colonna Goal\n",
    "* Quante squadre hanno partecipato alla competizione?\n",
    "* Qual è il numero di colonne del dataframe?\n",
    "* Selezionare solo le colonne Team, Yellow Cards e Red Cards ed assegnarle ad un dataframe la cui variabile assegnata è `discipline`\n",
    "* Ordinare le squadre prima per Red Cards, poi per Yellow Cards\n",
    "* Calcolare la media dei Yellow Cards per squadra\n",
    "* Selezionare i team che hanno fatto più di 6 goal\n",
    "* Selezionare i team che iniziano con la lettera G\n",
    "* Selezionare le prime 7 colonne\n",
    "* Selezionare tutte le colonne eccetto le ultime 3\n",
    "* Visualizzare solo la Shooting Accuracy di England, Italy e Russia"
   ]
  },
  {
   "cell_type": "markdown",
   "metadata": {},
   "source": [
    "---"
   ]
  },
  {
   "cell_type": "markdown",
   "metadata": {},
   "source": [
    "# Raggruppamenti per proprietà"
   ]
  },
  {
   "cell_type": "markdown",
   "metadata": {},
   "source": [
    "## Importare il dataset Alcohol Consumption da questo [indirizzo](https://raw.githubusercontent.com/justmarkham/DAT8/master/data/drinks.csv) ed assegnarlo ad una variabile chiamata `drinks`"
   ]
  },
  {
   "cell_type": "code",
   "execution_count": null,
   "metadata": {},
   "outputs": [],
   "source": []
  },
  {
   "cell_type": "markdown",
   "metadata": {},
   "source": [
    "## Cose da fare:\n",
    "* Quale continente beve mediamente più birra?\n",
    "* Per ogni continente, visualizzare le statisiche per il consumo di vino\n",
    "* Visualizzare il consumo di alcol (media) per continente per ogni colonna\n",
    "* Visualizzare il consumo di alcol (mediana) per continente per ogni colonna\n",
    "* Visualizzare media, min e max per continente per il consumo di spirito"
   ]
  },
  {
   "cell_type": "markdown",
   "metadata": {},
   "source": [
    "---"
   ]
  },
  {
   "cell_type": "markdown",
   "metadata": {},
   "source": [
    "# Modificare un dataframe"
   ]
  },
  {
   "cell_type": "markdown",
   "metadata": {},
   "source": [
    "## Importare il dataset Student Alcohol Consumption da questo [indirizzo](https://raw.githubusercontent.com/guipsamora/pandas_exercises/master/04_Apply/Students_Alcohol_Consumption/student-mat.csv) ed assegnarlo ad una variabile chiamata `student_drinks`"
   ]
  },
  {
   "cell_type": "code",
   "execution_count": null,
   "metadata": {},
   "outputs": [],
   "source": []
  },
  {
   "cell_type": "markdown",
   "metadata": {},
   "source": [
    "## Cose da fare:\n",
    "\n",
    "* Modificare il dataframe in modo da selezionare solo le colonne da `school` a `guardian`\n",
    "* Modificare i valori testuali nelle colonne `Mjob` e `Fjob` in modo da avere la lettera iniziale maiuscola\n",
    "* Creare una nuova colonna `legal_drinker` che contenga il valore `True` se il record corrente riguarda uno studente che può bere legalmente (ovvero la sua età è > 17 anni)"
   ]
  },
  {
   "cell_type": "markdown",
   "metadata": {},
   "source": [
    "---"
   ]
  },
  {
   "cell_type": "markdown",
   "metadata": {},
   "source": [
    "# Visualizzazione"
   ]
  },
  {
   "cell_type": "markdown",
   "metadata": {},
   "source": [
    "## Importazione delle librerie necessarie"
   ]
  },
  {
   "cell_type": "code",
   "execution_count": null,
   "metadata": {},
   "outputs": [],
   "source": [
    "# questo lo usiamo per mostrare i grafici direttamente nel notebook\n",
    "%matplotlib inline"
   ]
  },
  {
   "cell_type": "markdown",
   "metadata": {},
   "source": [
    "## Cose da fare con il dataframe `chipo`:\n",
    "\n",
    "* Visualizzazione dei primi 10 record\n",
    "* Istogramma dei top 5 oggetti acquistati\n",
    "* Scatterplot del numero di oggetti ordinati per prezzo dell'ordine (l'intervallo del prezzo dell'ordine dovrebbe stare sull'ascissa, mentre l'ordinata dovrebbe indicare il numero di oggetti ordinati con quel prezzo)\n"
   ]
  },
  {
   "cell_type": "markdown",
   "metadata": {},
   "source": [
    "## Importare il dataset Online Retail da questo [indirizzo](https://raw.githubusercontent.com/guipsamora/pandas_exercises/master/07_Visualization/Online_Retail/Online_Retail.csv) ed assegnarlo ad una variabile chiamata `online_rt`"
   ]
  },
  {
   "cell_type": "code",
   "execution_count": null,
   "metadata": {},
   "outputs": [],
   "source": []
  },
  {
   "cell_type": "markdown",
   "metadata": {},
   "source": [
    "## Cose da fare con il dataframe `online_rt`:\n",
    "\n",
    "* Istogramma delle prime 10 country con il maggior valore di Quantity\n",
    "* Istogramma dei primi 10 oggetti con il maggior valore di UnitPrice"
   ]
  },
  {
   "cell_type": "code",
   "execution_count": null,
   "metadata": {},
   "outputs": [],
   "source": []
  }
 ],
 "metadata": {
  "kernelspec": {
   "display_name": "Python 3",
   "language": "python",
   "name": "python3"
  },
  "language_info": {
   "codemirror_mode": {
    "name": "ipython",
    "version": 3
   },
   "file_extension": ".py",
   "mimetype": "text/x-python",
   "name": "python",
   "nbconvert_exporter": "python",
   "pygments_lexer": "ipython3",
   "version": "3.7.6"
  }
 },
 "nbformat": 4,
 "nbformat_minor": 4
}
